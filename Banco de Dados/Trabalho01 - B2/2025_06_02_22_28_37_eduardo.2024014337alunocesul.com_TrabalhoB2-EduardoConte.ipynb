{
 "cells": [
  {
   "cell_type": "code",
   "id": "initial_id",
   "metadata": {
    "collapsed": true,
    "ExecuteTime": {
     "end_time": "2025-06-03T01:10:04.985013Z",
     "start_time": "2025-06-03T01:10:04.954318Z"
    }
   },
   "source": [
    "from pymongo import MongoClient\n",
    "\n",
    "# Conectar ao MongoDB\n",
    "client = MongoClient(\"mongodb://localhost:27017/\")\n",
    "db = client[\"TrabalhoEmDupla\"]\n",
    "colecao = db[\"Eduardo_Vitor\"]\n"
   ],
   "outputs": [],
   "execution_count": 25
  },
  {
   "metadata": {
    "ExecuteTime": {
     "end_time": "2025-06-02T23:45:58.308540Z",
     "start_time": "2025-06-02T23:45:57.542261Z"
    }
   },
   "cell_type": "code",
   "source": [
    "# Inserido Região Sul\n",
    "\n",
    "query = {\n",
    "  \"CD_ESTADO\": {\"$in\": [\"PR\", \"SC\", \"RS\"]}\n",
    "}\n",
    "\n",
    "colecao.update_many(query, {\"$set\": {\"NOME_REGIAO\": \"SUL\"}})"
   ],
   "id": "ad40167a4b18994a",
   "outputs": [
    {
     "data": {
      "text/plain": [
       "UpdateResult({'n': 123686, 'nModified': 0, 'ok': 1.0, 'updatedExisting': True}, acknowledged=True)"
      ]
     },
     "execution_count": 17,
     "metadata": {},
     "output_type": "execute_result"
    }
   ],
   "execution_count": 17
  },
  {
   "metadata": {
    "ExecuteTime": {
     "end_time": "2025-06-02T23:45:36.656356Z",
     "start_time": "2025-06-02T23:45:35.992360Z"
    }
   },
   "cell_type": "code",
   "source": [
    "# Inserido Região Sudeste\n",
    "\n",
    "query = {\n",
    "  \"CD_ESTADO\": {\"$in\": [\"SP\", \"RJ\", \"ES\", \"MG\"]}\n",
    "}\n",
    "\n",
    "colecao.update_many(query, {\"$set\": {\"NOME_REGIAO\": \"SUDESTE\"}})"
   ],
   "id": "60bb5820b8e845d3",
   "outputs": [
    {
     "data": {
      "text/plain": [
       "UpdateResult({'n': 92146, 'nModified': 0, 'ok': 1.0, 'updatedExisting': True}, acknowledged=True)"
      ]
     },
     "execution_count": 15,
     "metadata": {},
     "output_type": "execute_result"
    }
   ],
   "execution_count": 15
  },
  {
   "metadata": {
    "ExecuteTime": {
     "end_time": "2025-06-02T23:08:24.379697Z",
     "start_time": "2025-06-02T23:08:22.979128Z"
    }
   },
   "cell_type": "code",
   "source": [
    "# Inserido Região Centro-Oeste\n",
    "\n",
    "query = {\n",
    "  \"CD_ESTADO\": {\"$in\": [\"MT\", \"GO\", \"MS\"]}\n",
    "}\n",
    "\n",
    "colecao.update_many(query, {\"$set\": {\"NOME_REGIAO\": \"CENTRO-OESTE\"}})"
   ],
   "id": "23226538bdabcece",
   "outputs": [
    {
     "data": {
      "text/plain": [
       "UpdateResult({'n': 31171, 'nModified': 31171, 'ok': 1.0, 'updatedExisting': True}, acknowledged=True)"
      ]
     },
     "execution_count": 6,
     "metadata": {},
     "output_type": "execute_result"
    }
   ],
   "execution_count": 6
  },
  {
   "metadata": {
    "ExecuteTime": {
     "end_time": "2025-06-02T23:10:05.062718Z",
     "start_time": "2025-06-02T23:09:54.117654Z"
    }
   },
   "cell_type": "code",
   "source": [
    "# Inserido Região Nordeste\n",
    "\n",
    "query = {\n",
    "  \"CD_ESTADO\": {\"$in\": [\"BA\", \"SE\", \"AL\", \"PE\", \"PB\", \"RN\", \"CE\", \"PI\", \"MA\"]}\n",
    "}\n",
    "\n",
    "colecao.update_many(query, {\"$set\": {\"NOME_REGIAO\": \"NORDESTE\"}})"
   ],
   "id": "e07984b42905d72d",
   "outputs": [
    {
     "data": {
      "text/plain": [
       "UpdateResult({'n': 316530, 'nModified': 316530, 'ok': 1.0, 'updatedExisting': True}, acknowledged=True)"
      ]
     },
     "execution_count": 7,
     "metadata": {},
     "output_type": "execute_result"
    }
   ],
   "execution_count": 7
  },
  {
   "metadata": {
    "ExecuteTime": {
     "end_time": "2025-06-02T23:11:42.056396Z",
     "start_time": "2025-06-02T23:11:41.450294Z"
    }
   },
   "cell_type": "code",
   "source": [
    "# Inserido Região Norte\n",
    "\n",
    "query = {\n",
    "  \"CD_ESTADO\": {\"$in\": [\"AC\", \"RR\", \"RO\", \"AM\", \"PA\", \"TO\", \"AP\"]}\n",
    "}\n",
    "\n",
    "colecao.update_many(query, {\"$set\": {\"NOME_REGIAO\": \"NORTE\"}})"
   ],
   "id": "7e8e09da3ef18a03",
   "outputs": [
    {
     "data": {
      "text/plain": [
       "UpdateResult({'n': 24027, 'nModified': 24027, 'ok': 1.0, 'updatedExisting': True}, acknowledged=True)"
      ]
     },
     "execution_count": 8,
     "metadata": {},
     "output_type": "execute_result"
    }
   ],
   "execution_count": 8
  },
  {
   "metadata": {
    "ExecuteTime": {
     "end_time": "2025-06-02T23:45:26.777182Z",
     "start_time": "2025-06-02T23:45:19.419242Z"
    }
   },
   "cell_type": "code",
   "source": [
    "query = [\n",
    "  {\n",
    "    \"$group\": {\n",
    "      \"_id\": \"$CD_ESTADO\",\n",
    "      \"somaTotalVlParcCredito\": {\"$sum\": \"$VL_PARC_CREDITO\"},\n",
    "      \"mediaVlJuros\": {\"$avg\": \"$VL_JUROS\"}\n",
    "      }\n",
    "  }\n",
    "]\n",
    "\n",
    "for doc in colecao.aggregate(query):\n",
    "  print(doc)"
   ],
   "id": "59524903be16c523",
   "outputs": [
    {
     "name": "stdout",
     "output_type": "stream",
     "text": [
      "{'_id': 'RS', 'somaTotalVlParcCredito': 9926343385.05, 'mediaVlJuros': 6.09130141441927}\n",
      "{'_id': 'MT', 'somaTotalVlParcCredito': 9052272842.85, 'mediaVlJuros': 9.925206868018204}\n",
      "{'_id': 'RN', 'somaTotalVlParcCredito': 275881874.97, 'mediaVlJuros': 0.8650513277748325}\n",
      "{'_id': 'ES', 'somaTotalVlParcCredito': 2192073295.75, 'mediaVlJuros': 7.463789881896704}\n",
      "{'_id': 'RJ', 'somaTotalVlParcCredito': 195100852.41, 'mediaVlJuros': 5.991464679196371}\n",
      "{'_id': 'MS', 'somaTotalVlParcCredito': 4532893398.57, 'mediaVlJuros': 11.283186636253857}\n",
      "{'_id': 'DF', 'somaTotalVlParcCredito': 112085995.7, 'mediaVlJuros': 11.505901639344263}\n",
      "{'_id': 'SC', 'somaTotalVlParcCredito': 4567565852.52, 'mediaVlJuros': 6.092670655158885}\n",
      "{'_id': 'RR', 'somaTotalVlParcCredito': 205812307.13, 'mediaVlJuros': 6.401975683890577}\n",
      "{'_id': 'MA', 'somaTotalVlParcCredito': 1965782041.44, 'mediaVlJuros': 1.8357521635058}\n",
      "{'_id': 'SP', 'somaTotalVlParcCredito': 8846918889.49, 'mediaVlJuros': 10.064598644011049}\n",
      "{'_id': 'PA', 'somaTotalVlParcCredito': 2112289110.96, 'mediaVlJuros': 5.004137175413608}\n",
      "{'_id': 'PE', 'somaTotalVlParcCredito': 786934809.68, 'mediaVlJuros': 1.262584596035216}\n",
      "{'_id': 'GO', 'somaTotalVlParcCredito': 8286988526.84, 'mediaVlJuros': 11.629890391459075}\n",
      "{'_id': 'AM', 'somaTotalVlParcCredito': 108104523.59, 'mediaVlJuros': 3.964250343878955}\n",
      "{'_id': 'BA', 'somaTotalVlParcCredito': 3523446630.15, 'mediaVlJuros': 1.5654229995219087}\n",
      "{'_id': 'PB', 'somaTotalVlParcCredito': 374486449.34, 'mediaVlJuros': 0.9226011842302503}\n",
      "{'_id': 'CE', 'somaTotalVlParcCredito': 697437866.96, 'mediaVlJuros': 0.988176406112317}\n",
      "{'_id': 'AC', 'somaTotalVlParcCredito': 256396744.46, 'mediaVlJuros': 5.652176436448056}\n",
      "{'_id': 'SE', 'somaTotalVlParcCredito': 578416447.34, 'mediaVlJuros': 2.3083353836690756}\n",
      "{'_id': 'AP', 'somaTotalVlParcCredito': 15877047.5, 'mediaVlJuros': 1.025044642857143}\n",
      "{'_id': 'AL', 'somaTotalVlParcCredito': 347714323.03, 'mediaVlJuros': 1.2326323153668328}\n",
      "{'_id': 'PR', 'somaTotalVlParcCredito': 12052758151.7, 'mediaVlJuros': 7.331330194681257}\n",
      "{'_id': 'TO', 'somaTotalVlParcCredito': 2325905045.82, 'mediaVlJuros': 9.571891891891891}\n",
      "{'_id': 'MG', 'somaTotalVlParcCredito': 11738882561.17, 'mediaVlJuros': 5.3727917099985145}\n",
      "{'_id': 'RO', 'somaTotalVlParcCredito': 1652948388.58, 'mediaVlJuros': 6.818767828843106}\n",
      "{'_id': 'PI', 'somaTotalVlParcCredito': 1099175195.78, 'mediaVlJuros': 0.8580775743891622}\n"
     ]
    }
   ],
   "execution_count": 14
  },
  {
   "metadata": {
    "ExecuteTime": {
     "end_time": "2025-06-03T01:01:33.149679Z",
     "start_time": "2025-06-03T01:01:32.798498Z"
    }
   },
   "cell_type": "code",
   "source": [
    "query = [{\n",
    "    \"$project\": {\n",
    "      \"juros_estimado\": { \"$multiply\": [\"$VL_JUROS\", \"$VL_PARC_CREDITO\"] }\n",
    "    }\n",
    "  },\n",
    "  {\n",
    "    \"$group\": {\n",
    "      \"_id\": \"null\",\n",
    "      \"total_juros_estimado\": { \"$sum\": \"$juros_estimado\" }\n",
    "    }\n",
    "  }]\n",
    "\n",
    "for doc in colecao.aggregate(query):\n",
    "  print(doc)\n"
   ],
   "id": "2aee67080b89e7a9",
   "outputs": [
    {
     "name": "stdout",
     "output_type": "stream",
     "text": [
      "{'_id': 'null', 'total_juros_estimado': 962366497473.9338}\n"
     ]
    }
   ],
   "execution_count": 21
  },
  {
   "metadata": {
    "ExecuteTime": {
     "end_time": "2025-06-03T00:51:27.341339Z",
     "start_time": "2025-06-03T00:51:25.517215Z"
    }
   },
   "cell_type": "code",
   "source": [
    "query = [{\n",
    "    \"$group\": {\n",
    "      \"_id\": \"$CNPJ_IF\",\n",
    "      \"total_credito\": { \"$sum\": \"$VL_PARC_CREDITO\" }\n",
    "    }\n",
    "  },\n",
    "  {\n",
    "    \"$sort\": { \"total_credito\": -1 }\n",
    "  },\n",
    "  {\n",
    "    \"$limit\": 5\n",
    "  }\n",
    "]\n",
    "\n",
    "for doc in colecao.aggregate(query):\n",
    "    print(doc)"
   ],
   "id": "61d325be1a32fc8c",
   "outputs": [
    {
     "name": "stdout",
     "output_type": "stream",
     "text": [
      "{'_id': 0, 'total_credito': 36198941561.72}\n",
      "{'_id': 60701190, 'total_credito': 8081557254.18}\n",
      "{'_id': 7237373, 'total_credito': 5012752681.93}\n",
      "{'_id': 360305, 'total_credito': 3044727556.32}\n",
      "{'_id': 60746948, 'total_credito': 3043450543.46}\n"
     ]
    }
   ],
   "execution_count": 18
  },
  {
   "metadata": {
    "ExecuteTime": {
     "end_time": "2025-06-03T01:13:07.638460Z",
     "start_time": "2025-06-03T01:13:06.466160Z"
    }
   },
   "cell_type": "code",
   "source": [
    "colecaoExer4 = db[\"REGIAO_403\"]\n",
    "\n",
    "docs = list(colecao.find({\"NOME_REGIAO\": \"SUL\", \"CD_FONTE_RECURSO\" : 403}))\n",
    "\n",
    "for doc in docs:\n",
    "    doc.pop('_id', None)\n",
    "\n",
    "if docs:\n",
    "    colecaoExer4.insert_many(docs)\n",
    "    print(f\"{len(docs)}  inserido no banco\")\n",
    "else:\n",
    "    print(\"nenhum documento no banco\")\n"
   ],
   "id": "4de41b3aa1d42546",
   "outputs": [
    {
     "name": "stdout",
     "output_type": "stream",
     "text": [
      "29734  inserido no banco\n"
     ]
    }
   ],
   "execution_count": 28
  },
  {
   "metadata": {
    "ExecuteTime": {
     "end_time": "2025-06-03T01:27:55.808367Z",
     "start_time": "2025-06-03T01:27:55.566939Z"
    }
   },
   "cell_type": "code",
   "source": [
    "\n",
    "query = [\n",
    "  {\n",
    "    \"$match\": {\n",
    "      \"$and\": [\n",
    "        { \"VL_AREA_FINANC\": { \"$gt\": 5 } },\n",
    "        { \"VL_AREA_INFORMADA\": { \"$lt\": 125 } }\n",
    "      ]\n",
    "    }\n",
    "  },\n",
    "  {\n",
    "    \"$project\": {\n",
    "      \"_id\": 0,\n",
    "      \"VL_AREA_FINANC\": 1,\n",
    "      \"VL_AREA_INFORMADA\": 1\n",
    "    }\n",
    "  }\n",
    "]\n",
    "\n",
    "for i in colecaoExer4.aggregate(query):\n",
    "    print(i)"
   ],
   "id": "42db135782d503b4",
   "outputs": [
    {
     "ename": "NameError",
     "evalue": "name 'colecaoExer4' is not defined",
     "output_type": "error",
     "traceback": [
      "\u001B[31m---------------------------------------------------------------------------\u001B[39m",
      "\u001B[31mNameError\u001B[39m                                 Traceback (most recent call last)",
      "\u001B[36mCell\u001B[39m\u001B[36m \u001B[39m\u001B[32mIn[1]\u001B[39m\u001B[32m, line 19\u001B[39m\n\u001B[32m      1\u001B[39m query = [\n\u001B[32m      2\u001B[39m   {\n\u001B[32m      3\u001B[39m     \u001B[33m\"\u001B[39m\u001B[33m$match\u001B[39m\u001B[33m\"\u001B[39m: {\n\u001B[32m   (...)\u001B[39m\u001B[32m     16\u001B[39m   }\n\u001B[32m     17\u001B[39m ]\n\u001B[32m---> \u001B[39m\u001B[32m19\u001B[39m \u001B[38;5;28;01mfor\u001B[39;00m i \u001B[38;5;129;01min\u001B[39;00m \u001B[43mcolecaoExer4\u001B[49m.aggregate(query):\n\u001B[32m     20\u001B[39m     \u001B[38;5;28mprint\u001B[39m(i)\n",
      "\u001B[31mNameError\u001B[39m: name 'colecaoExer4' is not defined"
     ]
    }
   ],
   "execution_count": 1
  }
 ],
 "metadata": {
  "kernelspec": {
   "display_name": "Python 3",
   "language": "python",
   "name": "python3"
  },
  "language_info": {
   "codemirror_mode": {
    "name": "ipython",
    "version": 2
   },
   "file_extension": ".py",
   "mimetype": "text/x-python",
   "name": "python",
   "nbconvert_exporter": "python",
   "pygments_lexer": "ipython2",
   "version": "2.7.6"
  }
 },
 "nbformat": 4,
 "nbformat_minor": 5
}
